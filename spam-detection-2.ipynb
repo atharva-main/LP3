{
 "cells": [
  {
   "cell_type": "code",
   "execution_count": 1,
   "id": "6bcbcb48-992d-4d9d-ba4b-25dbdcb5d606",
   "metadata": {},
   "outputs": [],
   "source": [
    "import pandas as pd\n",
    "import numpy as np\n",
    "import re\n",
    "from sklearn.model_selection import train_test_split\n",
    "from sklearn.feature_extraction.text import TfidfVectorizer\n",
    "from sklearn.neighbors import KNeighborsClassifier\n",
    "from sklearn.svm import SVC\n",
    "from sklearn.metrics import accuracy_score, confusion_matrix, precision_score, recall_score\n"
   ]
  },
  {
   "cell_type": "code",
   "execution_count": 2,
   "id": "ede2b1b8-a497-4662-b200-be9264e80955",
   "metadata": {},
   "outputs": [
    {
     "name": "stdout",
     "output_type": "stream",
     "text": [
      "   IsSpam                                               text\n",
      "0       0  key issues going forwarda year end reviews rep...\n",
      "1       0  congrats contratulations the execution the cen...\n",
      "2       0   key issues going forwardall under control set...\n",
      "3       0  epmi files protest entergy transcoattached our...\n",
      "4       0  california power please contact kristin walsh ...\n"
     ]
    }
   ],
   "source": [
    "# Step 1: Load the dataset\n",
    "data = pd.read_csv(\"email.csv\")  # Replace with the path to your dataset\n",
    "print(data.head())  # Check the first few rows of the dataset\n"
   ]
  },
  {
   "cell_type": "code",
   "execution_count": 3,
   "id": "fc2ed747-094d-4c62-883b-e0284208580f",
   "metadata": {},
   "outputs": [],
   "source": [
    "# Step 2: Data Preprocessing\n",
    "# Clean the text data\n",
    "def preprocess_text(text):\n",
    "    text = re.sub(r'\\W', ' ', text)           # Remove non-alphanumeric characters\n",
    "    text = re.sub(r'\\s+', ' ', text)          # Replace multiple spaces with a single space\n",
    "    text = text.lower()                       # Convert to lowercase\n",
    "    return text"
   ]
  },
  {
   "cell_type": "code",
   "execution_count": 4,
   "id": "398a677a-a2fb-41be-810c-ff18c2bc9806",
   "metadata": {},
   "outputs": [],
   "source": [
    "data['text'] = data['text'].apply(preprocess_text)"
   ]
  },
  {
   "cell_type": "code",
   "execution_count": 6,
   "id": "2bc70590-2c6b-4ca8-98c3-c9dddc13afde",
   "metadata": {},
   "outputs": [],
   "source": [
    "# Step 3: Feature Extraction using TF-IDF\n",
    "vectorizer = TfidfVectorizer(max_features=3000)  # Adjust max_features as needed\n",
    "X = vectorizer.fit_transform(data['text']).toarray()\n",
    "y = data['IsSpam']  # The target column, where 1 indicates spam and 0 indicates not spam\n"
   ]
  },
  {
   "cell_type": "code",
   "execution_count": 7,
   "id": "64c35960-72ca-428f-8dac-e77d7f43dfd0",
   "metadata": {},
   "outputs": [],
   "source": [
    "# Step 4: Split the dataset into training and testing sets\n",
    "X_train, X_test, y_train, y_test = train_test_split(X, y, test_size=0.2, random_state=42)\n"
   ]
  },
  {
   "cell_type": "code",
   "execution_count": 8,
   "id": "5454b307-2070-4f88-8d08-376e4d796673",
   "metadata": {},
   "outputs": [],
   "source": [
    "# Step 5: K-Nearest Neighbors Classifier\n",
    "knn_model = KNeighborsClassifier(n_neighbors=5)  # You can tune 'n_neighbors' for better performance\n",
    "knn_model.fit(X_train, y_train)\n",
    "y_pred_knn = knn_model.predict(X_test)\n"
   ]
  },
  {
   "cell_type": "code",
   "execution_count": 9,
   "id": "1a4e48ee-d28c-4266-adea-aa6e25f706ac",
   "metadata": {},
   "outputs": [],
   "source": [
    "# Performance Evaluation for KNN\n",
    "knn_accuracy = accuracy_score(y_test, y_pred_knn)\n",
    "knn_confusion = confusion_matrix(y_test, y_pred_knn)\n",
    "knn_precision = precision_score(y_test, y_pred_knn)\n",
    "knn_recall = recall_score(y_test, y_pred_knn)"
   ]
  },
  {
   "cell_type": "code",
   "execution_count": 10,
   "id": "456e6a97-4f50-4f8b-a542-3ec5b02e7a92",
   "metadata": {},
   "outputs": [
    {
     "name": "stdout",
     "output_type": "stream",
     "text": [
      "K-Nearest Neighbors Performance:\n",
      "Accuracy: 0.93\n",
      "Confusion Matrix:\n",
      "[[88  8]\n",
      " [ 6 98]]\n",
      "Precision: 0.92\n",
      "Recall: 0.94\n",
      "\n"
     ]
    }
   ],
   "source": [
    "print(\"K-Nearest Neighbors Performance:\")\n",
    "print(f\"Accuracy: {knn_accuracy:.2f}\")\n",
    "print(f\"Confusion Matrix:\\n{knn_confusion}\")\n",
    "print(f\"Precision: {knn_precision:.2f}\")\n",
    "print(f\"Recall: {knn_recall:.2f}\\n\")"
   ]
  },
  {
   "cell_type": "code",
   "execution_count": 11,
   "id": "d924bf0e-d28a-41ab-9b9c-737ada76add8",
   "metadata": {},
   "outputs": [],
   "source": [
    "# Step 6: Support Vector Machine Classifier\n",
    "svm_model = SVC(kernel='linear')  # Linear kernel is suitable for text classification\n",
    "svm_model.fit(X_train, y_train)\n",
    "y_pred_svm = svm_model.predict(X_test)"
   ]
  },
  {
   "cell_type": "code",
   "execution_count": 12,
   "id": "9e238275-eb93-441e-8ef6-918b4c770b24",
   "metadata": {},
   "outputs": [],
   "source": [
    "# Performance Evaluation for SVM\n",
    "svm_accuracy = accuracy_score(y_test, y_pred_svm)\n",
    "svm_confusion = confusion_matrix(y_test, y_pred_svm)\n",
    "svm_precision = precision_score(y_test, y_pred_svm)\n",
    "svm_recall = recall_score(y_test, y_pred_svm)"
   ]
  },
  {
   "cell_type": "code",
   "execution_count": 13,
   "id": "52291f5e-2509-47e7-aa98-ebfa83cc59d2",
   "metadata": {},
   "outputs": [
    {
     "name": "stdout",
     "output_type": "stream",
     "text": [
      "Support Vector Machine Performance:\n",
      "Accuracy: 0.97\n",
      "Confusion Matrix:\n",
      "[[ 91   5]\n",
      " [  1 103]]\n",
      "Precision: 0.95\n",
      "Recall: 0.99\n",
      "\n"
     ]
    }
   ],
   "source": [
    "print(\"Support Vector Machine Performance:\")\n",
    "print(f\"Accuracy: {svm_accuracy:.2f}\")\n",
    "print(f\"Confusion Matrix:\\n{svm_confusion}\")\n",
    "print(f\"Precision: {svm_precision:.2f}\")\n",
    "print(f\"Recall: {svm_recall:.2f}\\n\")"
   ]
  },
  {
   "cell_type": "code",
   "execution_count": 14,
   "id": "eeb590d8-d6b2-4a2b-b16a-40b650bd24ca",
   "metadata": {},
   "outputs": [
    {
     "name": "stdout",
     "output_type": "stream",
     "text": [
      "Performance Comparison:\n",
      "Model\t\tAccuracy\tPrecision\tRecall\n",
      "KNN\t\t0.93\t\t0.92\t\t0.94\n",
      "SVM\t\t0.97\t\t0.95\t\t0.99\n"
     ]
    }
   ],
   "source": [
    "# Step 7: Compare the Performance\n",
    "print(\"Performance Comparison:\")\n",
    "print(\"Model\\t\\tAccuracy\\tPrecision\\tRecall\")\n",
    "print(f\"KNN\\t\\t{knn_accuracy:.2f}\\t\\t{knn_precision:.2f}\\t\\t{knn_recall:.2f}\")\n",
    "print(f\"SVM\\t\\t{svm_accuracy:.2f}\\t\\t{svm_precision:.2f}\\t\\t{svm_recall:.2f}\")"
   ]
  },
  {
   "cell_type": "code",
   "execution_count": null,
   "id": "4873484c-ebe8-49b8-b402-a5931643fad0",
   "metadata": {},
   "outputs": [],
   "source": []
  }
 ],
 "metadata": {
  "kernelspec": {
   "display_name": "env",
   "language": "python",
   "name": "myenv"
  },
  "language_info": {
   "codemirror_mode": {
    "name": "ipython",
    "version": 3
   },
   "file_extension": ".py",
   "mimetype": "text/x-python",
   "name": "python",
   "nbconvert_exporter": "python",
   "pygments_lexer": "ipython3",
   "version": "3.12.2"
  }
 },
 "nbformat": 4,
 "nbformat_minor": 5
}
